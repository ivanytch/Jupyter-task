{
 "cells": [
  {
   "cell_type": "markdown",
   "id": "95598fb2-aca4-477a-a766-d0917940abbb",
   "metadata": {},
   "source": [
    "# My Jupyter Notebook on IBM Watson Studio"
   ]
  },
  {
   "cell_type": "markdown",
   "id": "975ea79a-825a-4544-816d-0d6a4eefafe9",
   "metadata": {},
   "source": [
    "**Sergey Kuznetsov**  \n",
    "Research Scientist"
   ]
  },
  {
   "cell_type": "markdown",
   "id": "66b52a09-af85-4535-8c09-6a4fbf538fdd",
   "metadata": {},
   "source": [
    "*I am interested in data science because I like to study new and modern methods and techniques*"
   ]
  },
  {
   "cell_type": "markdown",
   "id": "1d92f8b1-1dab-44e6-8ab0-35792907e24c",
   "metadata": {},
   "source": [
    "Print ${\\pi}$"
   ]
  },
  {
   "cell_type": "code",
   "execution_count": 1,
   "id": "338b6dff-a400-4206-bd11-5f5818fafaf2",
   "metadata": {},
   "outputs": [
    {
     "name": "stdout",
     "output_type": "stream",
     "text": [
      "π = 3.141592653589793\n"
     ]
    }
   ],
   "source": [
    "import math\n",
    "print(\"\\u03C0 =\",math.pi)"
   ]
  },
  {
   "cell_type": "markdown",
   "id": "7d2db625-4809-4fba-b3e1-32605caa9044",
   "metadata": {},
   "source": [
    "<h4>List of items</h4>\n",
    "1. Hyperlink: <a href=\"https://dataplatform.cloud.ibm.com/gallery\">IBM Cloud Gallery</a></br>\n",
    "2. Code: <tt>This is part of the code</tt></br>\n",
    "3. Horisontal Rule: <hr width=\"100%\">"
   ]
  },
  {
   "cell_type": "code",
   "execution_count": null,
   "id": "ed0a44d7-54d8-4f64-bd3a-50552207b373",
   "metadata": {},
   "outputs": [],
   "source": []
  }
 ],
 "metadata": {
  "kernelspec": {
   "display_name": "Python",
   "language": "python",
   "name": "conda-env-python-py"
  },
  "language_info": {
   "codemirror_mode": {
    "name": "ipython",
    "version": 3
   },
   "file_extension": ".py",
   "mimetype": "text/x-python",
   "name": "python",
   "nbconvert_exporter": "python",
   "pygments_lexer": "ipython3",
   "version": "3.7.12"
  }
 },
 "nbformat": 4,
 "nbformat_minor": 5
}
